{
 "cells": [
  {
   "cell_type": "code",
   "execution_count": 98,
   "metadata": {},
   "outputs": [
    {
     "data": {
      "text/plain": [
       "False"
      ]
     },
     "execution_count": 98,
     "metadata": {},
     "output_type": "execute_result"
    }
   ],
   "source": [
    "from dice import six_sided, make_test_dice\n",
    "from ucb import main, trace, interact\n",
    "from math import log2\n",
    "from hog import *\n",
    "\n",
    "def is_always_roll(strategy, goal=GOAL):\n",
    "    \"\"\"Return whether strategy always chooses the same number of dice to roll.\n",
    "\n",
    "    >>> is_always_roll(always_roll_5)\n",
    "    True\n",
    "    >>> is_always_roll(always_roll(3))\n",
    "    True\n",
    "    >>> is_always_roll(catch_up)\n",
    "    False\n",
    "    \"\"\"\n",
    "    # BEGIN PROBLEM 7\n",
    "    \"*** YOUR CODE HERE ***\"\n",
    "    decision = strategy(0,0)\n",
    "    for score in range(goal):\n",
    "        for opponent_score in range(goal):\n",
    "            thisDecision = strategy(score, opponent_score)\n",
    "            if thisDecision != decision:\n",
    "                return False\n",
    "    return True\n",
    "\n",
    "    # END PROBLEM 7\n",
    "def s(x,y):\n",
    "    if x == 0 and y ==0:\n",
    "        return 0\n",
    "    else:\n",
    "        return 1\n",
    "is_always_roll(s,100)"
   ]
  },
  {
   "cell_type": "code",
   "execution_count": 105,
   "metadata": {},
   "outputs": [
    {
     "ename": "NameError",
     "evalue": "name 'next_perfect_square' is not defined",
     "output_type": "error",
     "traceback": [
      "\u001b[0;31m---------------------------------------------------------------------------\u001b[0m",
      "\u001b[0;31mNameError\u001b[0m                                 Traceback (most recent call last)",
      "Cell \u001b[0;32mIn[105], line 3\u001b[0m\n\u001b[1;32m      1\u001b[0m \u001b[39mfrom\u001b[39;00m \u001b[39mhog\u001b[39;00m \u001b[39mimport\u001b[39;00m \u001b[39m*\u001b[39m\n\u001b[1;32m      2\u001b[0m \u001b[39mfrom\u001b[39;00m \u001b[39mmath\u001b[39;00m \u001b[39mimport\u001b[39;00m sqrt\n\u001b[0;32m----> 3\u001b[0m temp \u001b[39m=\u001b[39m next_perfect_square(\u001b[39m16\u001b[39m)\n\u001b[1;32m      4\u001b[0m temp\n",
      "\u001b[0;31mNameError\u001b[0m: name 'next_perfect_square' is not defined"
     ]
    }
   ],
   "source": [
    "from hog import *\n",
    "from math import sqrt\n",
    "temp = next_perfect_square(16)\n",
    "temp"
   ]
  }
 ],
 "metadata": {
  "kernelspec": {
   "display_name": "Python 3",
   "language": "python",
   "name": "python3"
  },
  "language_info": {
   "codemirror_mode": {
    "name": "ipython",
    "version": 3
   },
   "file_extension": ".py",
   "mimetype": "text/x-python",
   "name": "python",
   "nbconvert_exporter": "python",
   "pygments_lexer": "ipython3",
   "version": "3.11.3"
  },
  "orig_nbformat": 4
 },
 "nbformat": 4,
 "nbformat_minor": 2
}
