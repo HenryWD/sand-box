{
 "cells": [
  {
   "cell_type": "code",
   "execution_count": 19,
   "metadata": {},
   "outputs": [
    {
     "name": "stdout",
     "output_type": "stream",
     "text": [
      "INCI Name:\n",
      "Benzyl Alcohol, Caprylic/Capric Triglyceride, Citric Acid\n",
      "Function:\n",
      "Emulsifier (O/W), Emulsifier\n"
     ]
    }
   ],
   "source": [
    "from bs4 import BeautifulSoup\n",
    "import requests\n",
    "\n",
    "url = 'https://www.knowde.com/b/markets-personal-care/products'\n",
    "\n",
    "response = requests.get(url)\n",
    "content = response.content\n",
    "soup = BeautifulSoup(content, \"html.parser\")\n",
    "\n",
    "parent = 'e1np0cu90 e1hg47tz0 css-1snax5j ev4fpqn0'\n",
    "product_string = 'css-1enynbp e1uv08lu0'\n",
    "inciCol = 'css-1kivc8p e71twrm0'\n",
    "inci_string = 'css-lyel5l e71twrm1'\n",
    "field_string = 'css-lyel5l e71twrm1'\n",
    "\n",
    "\n",
    "div_element = soup.find('div', class_= parent) ##-- usable\n",
    "\n",
    "fieldName = div_element.find_all('span')\n",
    "for f in fieldName:\n",
    "    print(f.text.strip())\n",
    "    if 'product-field-name' in f:\n",
    "        print(f.text.strip())\n",
    "\n",
    "\n",
    "# for i in container:\n",
    "#     product_name = i.find('p',class_ = product_string)\n",
    "#     print(product_name.text.strip())\n",
    "\n",
    "#     # inci_name = i.find('span', class_ = inci_string)\n",
    "#     inci_name = i.find('div',class_ = inci_string)\n",
    "#     print(inci_name.text.strip())\n",
    "\n",
    "#     fnction = i.find('span', class_ = fnction_string)\n",
    "#     print(fnction.text.strip())\n",
    "\n",
    "#     origion = i.find('span', class_ = origion_string)\n",
    "#     print(origion.text.strip() + '\\n')\n",
    "\n",
    "# div_element = soup.find_all('div',class_ = field_string)\n",
    "\n",
    "# for d in div_element:\n",
    "#     print(d.text.strip())"
   ]
  },
  {
   "cell_type": "code",
   "execution_count": null,
   "metadata": {},
   "outputs": [],
   "source": [
    "url = 'https://www.knowde.com/b/markets-personal-care/products'\n",
    "page_number = 2\n",
    "\n",
    "\n",
    "page_url = f'{url}/{page_number}'\n",
    "print(page_url)"
   ]
  },
  {
   "cell_type": "code",
   "execution_count": null,
   "metadata": {},
   "outputs": [],
   "source": [
    "# Create a BeautifulSoup object\n",
    "soup = BeautifulSoup(content, 'html.parser')\n",
    "\n",
    "# Find the div element with the given class\n",
    "div_element = soup.find('div', class_='css-1yz6nhx')\n",
    "\n",
    "# Find the span elements with the specified class and data-cy attribute values\n",
    "span_elements = div_element.find_all('span', class_='css-1kivc8p e71twrm0', attrs={'data-cy': 'product-field-name'})\n",
    "\n",
    "# Extract the text content of the span elements\n",
    "for span in span_elements:\n",
    "    if span.text == 'INCI Name:':\n",
    "        inci_name = span.find_next_sibling('span').text.strip()\n",
    "    elif span.text == 'Function:':\n",
    "        fnction = span.find_next_sibling('span').text.strip()\n",
    "\n",
    "    # Print the extracted values\n",
    "    print('INCI Name:', inci_name.text.strip())\n",
    "    print('Function:', fnction.text.strip())"
   ]
  }
 ],
 "metadata": {
  "kernelspec": {
   "display_name": "Python 3",
   "language": "python",
   "name": "python3"
  },
  "language_info": {
   "codemirror_mode": {
    "name": "ipython",
    "version": 3
   },
   "file_extension": ".py",
   "mimetype": "text/x-python",
   "name": "python",
   "nbconvert_exporter": "python",
   "pygments_lexer": "ipython3",
   "version": "3.10.6"
  },
  "orig_nbformat": 4
 },
 "nbformat": 4,
 "nbformat_minor": 2
}
