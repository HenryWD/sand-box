{
 "cells": [
  {
   "cell_type": "code",
   "execution_count": 63,
   "metadata": {},
   "outputs": [
    {
     "name": "stdout",
     "output_type": "stream",
     "text": [
      "INCI Name: Scenedesmus Rubescens Extract, Phenoxyethanol\n",
      "Function: UV Protector, Anti-Aging Agent\n",
      "Ingredient Origin: Natural Origin, Vegetable Origin\n",
      "Labeling Claims: Alcohol-free, BSE-free, Porcine-free, Natural, Sustainable, Non-GMO, Not Tested on Animals, TSE-free, Naturally Derived\n",
      "Certifications & Compliance: IECIC (China), ISO 16128, Halal, EU Cosmetic Regulation 1223/2009 Compliant, REACH (Europe)\n",
      "Benefit Claims: Skin Barrier, Rejuvenating, Regenerating, Increases Vital Energy, Conditioning, Long Lasting, Hydrating, Even Skin Tone, Blue Light Protection, Restoring, After-Sun Repair, Skin Protection, Promotes Youthful Skin, Collagen Boosting, Toning, Reduces oxidative damage with aging, Redness Reduction, Stimulating, UV Protection, Age & Dark Spot Reduction, Photo-Aging Protection, Shine & Radiance\n"
     ]
    }
   ],
   "source": [
    "import requests\n",
    "from bs4 import BeautifulSoup\n",
    "import csv\n",
    "import pandas as pd\n",
    "import functions\n",
    "import json\n",
    "\n",
    "def get_description(soup):\n",
    "    # Find all the product items on the page\n",
    "    d = {}\n",
    "    desc = container.find_all(\"div\", class_=\"product-page-header__description collapsed ng-star-inserted\")\n",
    "    for p in desc:\n",
    "        d[\"Description\"] = p.text.strip()\n",
    "        # return (p.text.strip())\n",
    "        return d\n",
    "\n",
    "\n",
    "def get_details(soup):\n",
    "    descriptions = container.find_all(\"div\", class_ = \"ng-star-inserted storefront-page-phase-4\")\n",
    "    l = []\n",
    "    d = dict()\n",
    "    for i in descriptions:\n",
    "        l.append(i.text.strip())\n",
    "\n",
    "    for i in l:\n",
    "        colon_pos = i.find(\":\")\n",
    "        d[i[:colon_pos]] = i[colon_pos+1:]\n",
    "\n",
    "    return d\n",
    "\n",
    "def get_seller(soup):\n",
    "    d = {}\n",
    "    seller = soup.find(\"div\",class_=\"storefront-header__content-subtitle__box\")\n",
    "    d[\"Seller\"] = seller.text.strip()[8:]\n",
    "    return d\n",
    "\n",
    "\n",
    "output = r'C:\\Users\\Hao\\projects\\upwork\\scrapeWebpage\\output' + '\\\\'\n",
    "res = 'test.csv'\n",
    "\n",
    "# Send a GET request to the URL\n",
    "url = \"https://www.knowde.com/stores/dsm/products/pepha-age\"\n",
    "# url = \"https://www.knowde.com/stores/sasol/products/ceralution-cpe\"\n",
    "\n",
    "response = requests.get(url)\n",
    "\n",
    "\n",
    "\n",
    "# Create a BeautifulSoup object to parse the HTML content\n",
    "soup = BeautifulSoup(response.text, \"html.parser\")\n",
    "\n",
    "# Find container that holds all the details\n",
    "container = soup.find(\"div\", class_=\"storefront-layout__container\")\n",
    "\n",
    "# print(get_seller(soup))\n",
    "# print(get_description(soup))\n",
    "\n",
    "colList = []\n",
    "values = []\n",
    "for k,v in get_details(soup).items():\n",
    "    print(\"{}:{}\".format(k,v))\n",
    "    colList.append(k.strip())\n",
    "    values.append(v.strip())\n",
    "\n",
    "final = [colList,values]\n",
    "\n",
    "with open(output+res,'w',newline=\"\") as csvfile:\n",
    "    write = csv.writer(csvfile)\n",
    "    write.writerow(colList)\n",
    "    write.writerow(values)\n",
    "\n",
    "\n"
   ]
  }
 ],
 "metadata": {
  "kernelspec": {
   "display_name": "Python 3",
   "language": "python",
   "name": "python3"
  },
  "language_info": {
   "codemirror_mode": {
    "name": "ipython",
    "version": 3
   },
   "file_extension": ".py",
   "mimetype": "text/x-python",
   "name": "python",
   "nbconvert_exporter": "python",
   "pygments_lexer": "ipython3",
   "version": "3.10.6"
  },
  "orig_nbformat": 4
 },
 "nbformat": 4,
 "nbformat_minor": 2
}
